{
 "cells": [
  {
   "cell_type": "code",
   "execution_count": null,
   "metadata": {},
   "outputs": [],
   "source": [
    "import json\n",
    "\n",
    "input_file = \"./example_ls_exports.json\"\n",
    "\n",
    "data = json.load(open(input_file))\n",
    "# Extract the title and abstract\n",
    "extracted_data = [\n",
    "    {\n",
    "        \"title\": item[\"data\"].get(\"title\", \"\"),\n",
    "        \"abstract\": item[\"data\"].get(\"abstract\", \"\"),\n",
    "    }\n",
    "    for item in data\n",
    "]\n",
    "\n",
    "# Save the extracted data to a new JSON file\n",
    "output_file_path = \"./example.json\"\n",
    "\n",
    "with open(output_file_path, \"w\") as output_file:\n",
    "    json.dump(extracted_data, output_file, indent=4)\n",
    "\n",
    "output_file_path"
   ]
  }
 ],
 "metadata": {
  "language_info": {
   "name": "python"
  }
 },
 "nbformat": 4,
 "nbformat_minor": 2
}
