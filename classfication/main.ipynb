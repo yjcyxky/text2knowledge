{
 "cells": [
  {
   "cell_type": "markdown",
   "metadata": {},
   "source": [
    "### Convert a file from Label Studio format to a format suitable for classification tasks\n",
    "\n",
    "You can export the data from Label Studio in a JSON format that is not suitable for classification tasks. The following code converts the JSON file to a format which is a list of dictionaries, where each dictionary has the following keys: title, abstract.\n"
   ]
  },
  {
   "cell_type": "code",
   "execution_count": 3,
   "metadata": {},
   "outputs": [],
   "source": [
    "input_file = \"./example_ls_exports.json\"\n",
    "# Save the extracted data to a new JSON file\n",
    "output_file_path = \"./example.json\"\n",
    "text2knowledge_dir = \"../examples/text2knowledge\""
   ]
  },
  {
   "cell_type": "code",
   "execution_count": 5,
   "metadata": {},
   "outputs": [],
   "source": [
    "import json\n",
    "\n",
    "data = json.load(open(input_file))\n",
    "# Extract the title and abstract\n",
    "extracted_data = [\n",
    "    {\n",
    "        \"title\": item[\"data\"].get(\"title\", \"\"),\n",
    "        \"abstract\": item[\"data\"].get(\"abstract\", \"\"),\n",
    "        \"pmid\": item[\"data\"].get(\"pmid\", \"\"),\n",
    "    }\n",
    "    for item in data\n",
    "]\n",
    "\n",
    "with open(output_file_path, \"w\") as output_file:\n",
    "    json.dump(extracted_data, output_file, indent=4)\n",
    "\n",
    "\n",
    "for item in extracted_data:\n",
    "    text = f\"Title: {item['title']}\\n\\nAbstract: {item['abstract']}\"\n",
    "    pmid = item[\"pmid\"]\n",
    "\n",
    "    if not pmid:\n",
    "        continue\n",
    "\n",
    "    with open(f\"{text2knowledge_dir}/{pmid}.txt\", \"w\") as output_file:\n",
    "        output_file.write(text)"
   ]
  },
  {
   "cell_type": "markdown",
   "metadata": {},
   "source": [
    "### Pull Models"
   ]
  },
  {
   "cell_type": "code",
   "execution_count": 79,
   "metadata": {},
   "outputs": [
    {
     "name": "stdout",
     "output_type": "stream",
     "text": [
      "llama3.1:70b mistral:7b mixtral:8x7b mixtral:8x22b\n",
      "Models to download: llama3.1:70b mistral:7b mixtral:8x7b mixtral:8x22b\n",
      "Models to download: llama3.1:70b mistral:7b mixtral:8x7b mixtral:8x22b\n",
      "Executing: ollama pull llama3.1:70b\n",
      "\u001b[?25lpulling manifest ⠋ \u001b[?25h\u001b[?25l\u001b[2K\u001b[1Gpulling manifest ⠙ \u001b[?25h\u001b[?25l\u001b[2K\u001b[1Gpulling manifest ⠹ \u001b[?25h\u001b[?25l\u001b[2K\u001b[1Gpulling manifest ⠸ \u001b[?25h\u001b[?25l\u001b[2K\u001b[1Gpulling manifest \n",
      "pulling aa81b541aae6... 100% ▕████████████████▏  39 GB                         \n",
      "pulling 8cf247399e57... 100% ▕████████████████▏ 1.7 KB                         \n",
      "pulling f1cd752815fc... 100% ▕████████████████▏  12 KB                         \n",
      "pulling 56bb8bd477a5... 100% ▕████████████████▏   96 B                         \n",
      "pulling 3c1c2d3df5b3... 100% ▕████████████████▏  486 B                         \n",
      "verifying sha256 digest \n",
      "writing manifest \n",
      "removing any unused layers \n",
      "success \u001b[?25h\n",
      "Successfully downloaded llama3.1:70b\n",
      "Executing: ollama pull mistral:7b\n",
      "\u001b[?25lpulling manifest ⠋ \u001b[?25h\u001b[?25l\u001b[2K\u001b[1Gpulling manifest ⠙ \u001b[?25h\u001b[?25l\u001b[2K\u001b[1Gpulling manifest ⠹ \u001b[?25h\u001b[?25l\u001b[2K\u001b[1Gpulling manifest \n",
      "pulling ff82381e2bea... 100% ▕████████████████▏ 4.1 GB                         \n",
      "pulling 43070e2d4e53... 100% ▕████████████████▏  11 KB                         \n",
      "pulling 491dfa501e59... 100% ▕████████████████▏  801 B                         \n",
      "pulling ed11eda7790d... 100% ▕████████████████▏   30 B                         \n",
      "pulling 42347cd80dc8... 100% ▕████████████████▏  485 B                         \n",
      "verifying sha256 digest \n",
      "writing manifest \n",
      "removing any unused layers \n",
      "success \u001b[?25h\n",
      "Successfully downloaded mistral:7b\n",
      "Executing: ollama pull mixtral:8x7b\n",
      "\u001b[?25lpulling manifest ⠋ \u001b[?25h\u001b[?25l\u001b[2K\u001b[1Gpulling manifest ⠙ \u001b[?25h\u001b[?25l\u001b[2K\u001b[1Gpulling manifest ⠹ \u001b[?25h\u001b[?25l\u001b[2K\u001b[1Gpulling manifest \n",
      "pulling e9e56e8bb5f0... 100% ▕████████████████▏  26 GB                         \n",
      "pulling 43070e2d4e53... 100% ▕████████████████▏  11 KB                         \n",
      "pulling c43332387573... 100% ▕████████████████▏   67 B                         \n",
      "pulling ed11eda7790d... 100% ▕████████████████▏   30 B                         \n",
      "pulling 9dec05e9b2db... 100% ▕████████████████▏  484 B                         \n",
      "verifying sha256 digest \n",
      "writing manifest \n",
      "removing any unused layers \n",
      "success \u001b[?25h\n",
      "Successfully downloaded mixtral:8x7b\n",
      "Executing: ollama pull mixtral:8x22b\n",
      "\u001b[?25lpulling manifest ⠋ \u001b[?25h\u001b[?25l\u001b[2K\u001b[1Gpulling manifest ⠙ \u001b[?25h\u001b[?25l\u001b[2K\u001b[1Gpulling manifest ⠹ \u001b[?25h\u001b[?25l\u001b[2K\u001b[1Gpulling manifest \n",
      "pulling 94e70a590f93... 100% ▕████████████████▏  79 GB                         \n",
      "pulling 138b3322e0da... 100% ▕████████████████▏  936 B                         \n",
      "pulling 43070e2d4e53... 100% ▕████████████████▏  11 KB                         \n",
      "pulling ed11eda7790d... 100% ▕████████████████▏   30 B                         \n",
      "pulling 93b7afdad286... 100% ▕████████████████▏  487 B                         \n",
      "verifying sha256 digest \n",
      "writing manifest \n",
      "removing any unused layers \n",
      "success \u001b[?25h\n",
      "Successfully downloaded mixtral:8x22b\n"
     ]
    }
   ],
   "source": [
    "models = [\"llama3.1:70b\", \"mistral:7b\", \"mixtral:8x7b\", \"mixtral:8x22b\"]\n",
    "\n",
    "# !bash ../pull_models.sh llama3.1:70b mistral:7b mixtral:8x7b mixtral:8x22b\n",
    "model_args = \" \".join(models)\n",
    "!bash ../pull_models.sh $model_args"
   ]
  },
  {
   "cell_type": "markdown",
   "metadata": {},
   "source": [
    "### Run the Classification Task"
   ]
  },
  {
   "cell_type": "code",
   "execution_count": null,
   "metadata": {},
   "outputs": [],
   "source": [
    "input_file = \"./example.json\"\n",
    "models = [\"llama3.1:70b\", \"mistral:7b\", \"mixtral:8x7b\", \"mixtral:8x22b\"]"
   ]
  },
  {
   "cell_type": "code",
   "execution_count": 80,
   "metadata": {},
   "outputs": [
    {
     "data": {
      "text/plain": [
       "['./results/llama3_1_70b.json',\n",
       " './results/mistral_7b.json',\n",
       " './results/mixtral_8x7b.json',\n",
       " './results/mixtral_8x22b.json']"
      ]
     },
     "execution_count": 80,
     "metadata": {},
     "output_type": "execute_result"
    }
   ],
   "source": [
    "output_files = [f\"./results/{model.replace('.', '_').replace(':', '_')}.json\" for model in models]\n",
    "\n",
    "# Process each model\n",
    "for output_file, model in zip(output_files, models):\n",
    "    # Ensure the command is formatted correctly\n",
    "    command = f\"python text2knowledge.py classify-article --input-file {input_file} --output-file {output_file} -m {model}\"\n",
    "    os.system(command)"
   ]
  },
  {
   "cell_type": "markdown",
   "metadata": {},
   "source": [
    "### Analyze and evaluate the results of the classification task"
   ]
  },
  {
   "cell_type": "markdown",
   "metadata": {},
   "source": [
    "#### List of Classification Results"
   ]
  },
  {
   "cell_type": "code",
   "execution_count": 40,
   "metadata": {},
   "outputs": [],
   "source": [
    "# models = [\"llama3.1:70b\", \"mistral:7b\", \"mixtral:8x7b\", \"mixtral:8x22b\"]\n",
    "# files = [\n",
    "#     f\"./results/{model.replace('.', '_').replace(':', '_')}.json\" for model in models\n",
    "# ]\n",
    "\n",
    "files = [\n",
    "    \"./results/llama3_1_70b.json\",\n",
    "    \"./results/mistral_7b.json\",\n",
    "    \"./results/mixtral_8x7b.json\",\n",
    "    \"./results/mixtral_8x22b.json\"\n",
    "]"
   ]
  },
  {
   "cell_type": "markdown",
   "metadata": {},
   "source": [
    "#### Analyzing Model Data for Category and Error Ratios"
   ]
  },
  {
   "cell_type": "code",
   "execution_count": 41,
   "metadata": {},
   "outputs": [],
   "source": [
    "import pandas as pd\n",
    "import json\n",
    "import os\n",
    "from typing import List, Dict\n",
    "\n",
    "def read_json(filepath: str) -> List[Dict]:\n",
    "    with open(filepath, \"r\") as file:\n",
    "        data = json.load(file)\n",
    "    return data\n",
    "\n",
    "def extract_model_names(filepath: str) -> str:\n",
    "    filename = os.path.basename(filepath)\n",
    "    # llama3_1_70b.json -> llama3.1:70b, mistral_7b.json -> mistral:7b\n",
    "    model_name = \".\".join(filename.split(\"_\")[0:-1])\n",
    "    version = filename.split(\"_\")[-1].split(\".\")[0]\n",
    "    return f\"{model_name}:{version}\"\n",
    "\n",
    "def extract_data(model_data, model_name):\n",
    "    data = []\n",
    "    for entry in model_data:\n",
    "        title = entry.get(\"title\", \"Unknown\")\n",
    "        category = entry.get(\"category\", \"Unknown\")\n",
    "        if \"error\" in entry:\n",
    "            category = \"Error\"\n",
    "        data.append([title, category])\n",
    "    return pd.DataFrame(data, columns=[\"Title\", model_name])\n",
    "\n",
    "# 预设的分类范围\n",
    "valid_categories = [\n",
    "    \"Molecular Mechanism Study\",\n",
    "    \"Review\",\n",
    "    \"Clinical Trial\",\n",
    "    \"Epidemiological Study\",\n",
    "    \"Retrospective Study\",\n",
    "    \"Clinical Test Index Study\",\n",
    "    \"Case Report\",\n",
    "    \"Meta-Analysis\",\n",
    "    \"Unknown\",\n",
    "]\n",
    "\n",
    "# 统计超出预设分类范围的比例\n",
    "def calculate_out_of_range_ratio(df, valid_categories, model_name):\n",
    "    total = len(df)\n",
    "    out_of_range = df[~df[model_name].isin(valid_categories)]\n",
    "    ratio = len(out_of_range) / total\n",
    "    return ratio\n",
    "\n",
    "\n",
    "# 统计符合分类范围的比例\n",
    "def calculate_in_range_ratio(df, valid_categories, model_name):\n",
    "    total = len(df)\n",
    "    in_range = df[df[model_name].isin(valid_categories)]\n",
    "    ratio = len(in_range) / total\n",
    "    return ratio\n",
    "\n",
    "\n",
    "# 统计出现Error字段的比例\n",
    "def calculate_error_ratio(df, model_name):\n",
    "    total = len(df)\n",
    "    errors = df[df[model_name] == \"Error\"]\n",
    "    ratio = len(errors) / total\n",
    "    return ratio"
   ]
  },
  {
   "cell_type": "code",
   "execution_count": 42,
   "metadata": {},
   "outputs": [
    {
     "data": {
      "text/html": [
       "<div>\n",
       "<style scoped>\n",
       "    .dataframe tbody tr th:only-of-type {\n",
       "        vertical-align: middle;\n",
       "    }\n",
       "\n",
       "    .dataframe tbody tr th {\n",
       "        vertical-align: top;\n",
       "    }\n",
       "\n",
       "    .dataframe thead th {\n",
       "        text-align: right;\n",
       "    }\n",
       "</style>\n",
       "<table border=\"1\" class=\"dataframe\">\n",
       "  <thead>\n",
       "    <tr style=\"text-align: right;\">\n",
       "      <th></th>\n",
       "      <th>model</th>\n",
       "      <th>out_of_range_ratio</th>\n",
       "      <th>in_range_ratio</th>\n",
       "      <th>error_ratio</th>\n",
       "    </tr>\n",
       "  </thead>\n",
       "  <tbody>\n",
       "    <tr>\n",
       "      <th>0</th>\n",
       "      <td>llama3.1:70b</td>\n",
       "      <td>0.031579</td>\n",
       "      <td>0.968421</td>\n",
       "      <td>0.010526</td>\n",
       "    </tr>\n",
       "    <tr>\n",
       "      <th>1</th>\n",
       "      <td>mistral:7b</td>\n",
       "      <td>0.040789</td>\n",
       "      <td>0.959211</td>\n",
       "      <td>0.000000</td>\n",
       "    </tr>\n",
       "    <tr>\n",
       "      <th>2</th>\n",
       "      <td>mixtral:8x7b</td>\n",
       "      <td>0.039474</td>\n",
       "      <td>0.960526</td>\n",
       "      <td>0.013158</td>\n",
       "    </tr>\n",
       "    <tr>\n",
       "      <th>3</th>\n",
       "      <td>mixtral:8x22b</td>\n",
       "      <td>0.011842</td>\n",
       "      <td>0.988158</td>\n",
       "      <td>0.000000</td>\n",
       "    </tr>\n",
       "  </tbody>\n",
       "</table>\n",
       "</div>"
      ],
      "text/plain": [
       "           model  out_of_range_ratio  in_range_ratio  error_ratio\n",
       "0   llama3.1:70b            0.031579        0.968421     0.010526\n",
       "1     mistral:7b            0.040789        0.959211     0.000000\n",
       "2   mixtral:8x7b            0.039474        0.960526     0.013158\n",
       "3  mixtral:8x22b            0.011842        0.988158     0.000000"
      ]
     },
     "execution_count": 42,
     "metadata": {},
     "output_type": "execute_result"
    }
   ],
   "source": [
    "merged_df = pd.DataFrame()\n",
    "loaded_data = {}\n",
    "for file in files:\n",
    "    model_data = read_json(file)\n",
    "    model_name = extract_model_names(file)\n",
    "    model_df = extract_data(model_data, model_name)\n",
    "    if merged_df.empty:\n",
    "        merged_df = model_df\n",
    "    else:\n",
    "        merged_df = pd.merge(merged_df, model_df, on=\"Title\", how=\"outer\")\n",
    "\n",
    "    loaded_data[model_name] = model_data\n",
    "\n",
    "all_model_names = merged_df.columns[1:]\n",
    "\n",
    "# 统计超出预设分类范围的比例, 反映模型的指令遵循能力\n",
    "out_of_range_ratios = {\n",
    "    model_name: calculate_out_of_range_ratio(merged_df, valid_categories, model_name)\n",
    "    for model_name in all_model_names\n",
    "}\n",
    "\n",
    "# 统计符合分类范围的比例\n",
    "in_range_ratios = {\n",
    "    model_name: calculate_in_range_ratio(merged_df, valid_categories, model_name)\n",
    "    for model_name in all_model_names\n",
    "}\n",
    "\n",
    "# 统计出现Error字段的比例\n",
    "error_ratios = {\n",
    "    model_name: calculate_error_ratio(merged_df, model_name) for model_name in all_model_names\n",
    "}\n",
    "\n",
    "# 输出统计结果\n",
    "results = pd.DataFrame()\n",
    "results[\"model\"] = all_model_names\n",
    "results[\"out_of_range_ratio\"] = [out_of_range_ratios[model_name] for model_name in all_model_names]\n",
    "results[\"in_range_ratio\"] = [in_range_ratios[model_name] for model_name in all_model_names]\n",
    "results[\"error_ratio\"] = [error_ratios[model_name] for model_name in all_model_names]\n",
    "\n",
    "results"
   ]
  },
  {
   "cell_type": "markdown",
   "metadata": {},
   "source": [
    "#### Finding Specific Items in Loaded Data"
   ]
  },
  {
   "cell_type": "code",
   "execution_count": 63,
   "metadata": {},
   "outputs": [],
   "source": [
    "def find_item(model_name, title, loaded_data):\n",
    "    for item in loaded_data[model_name]:\n",
    "        if item.get(\"title\") == title:\n",
    "            return item\n",
    "\n",
    "    return None\n",
    "\n",
    "\n",
    "def find_error_items(model_name: str, loaded_data) -> List[Dict]:\n",
    "    data = loaded_data[model_name]\n",
    "    error_items = [item for item in data if \"error\" in item]\n",
    "\n",
    "    return error_items\n",
    "\n",
    "\n",
    "def find_out_of_range_items(model_name: str, loaded_data) -> List[Dict]:\n",
    "    data = loaded_data[model_name]\n",
    "    out_of_range_items = [\n",
    "        item for item in data if item.get(\"category\") not in valid_categories\n",
    "    ]\n",
    "\n",
    "    return out_of_range_items"
   ]
  },
  {
   "cell_type": "code",
   "execution_count": 64,
   "metadata": {},
   "outputs": [
    {
     "data": {
      "text/plain": [
       "[{'error': \"\\n\\nERROR ### Here is the buggy response: I'm ready to analyze the text. Please go ahead and provide the paper title and abstract enclosed in triple backticks (```), and I'll give my judgment in JSON format, including 'category' and 'reason' fields.\",\n",
       "  'category': 'Unknown',\n",
       "  'title': '',\n",
       "  'abstract': '/data/upload/18/cda8eabf-20231009-YuchenYe-3.yaml'},\n",
       " {'error': \"\\n\\nERROR ### Here is the buggy response: I'm ready to analyze the content. However, I don't see any text provided within the triple backticks (```). Could you please provide the title and abstract of the paper, enclosed in triple backticks, so I can assist with categorizing it according to the guidelines?\",\n",
       "  'category': 'Unknown',\n",
       "  'title': '',\n",
       "  'abstract': '/data/upload/18/dbfdd323-20231009-YuchenYe-3.yaml'}]"
      ]
     },
     "execution_count": 64,
     "metadata": {},
     "output_type": "execute_result"
    }
   ],
   "source": [
    "# 查找错误的数据\n",
    "find_error_items(\"llama3.1:70b\", loaded_data)"
   ]
  },
  {
   "cell_type": "code",
   "execution_count": 65,
   "metadata": {},
   "outputs": [
    {
     "name": "stdout",
     "output_type": "stream",
     "text": [
      "Number of out of range items: 16\n"
     ]
    },
    {
     "data": {
      "text/plain": [
       "[{'category': 'Case-Control Comparison',\n",
       "  'title': 'Orthostatic Intolerance in Long-Haul COVID after SARS-CoV-2: A Case-Control Comparison with Post-EBV and Insidious-Onset Myalgic Encephalomyelitis/Chronic Fatigue Syndrome Patients.',\n",
       "  'abstract': 'BACKGROUND: As complaints of long-haul COVID patients are similar to those of ME/CFS patients and as orthostatic intolerance (OI) plays an important role in the COVID infection symptomatology, we compared 14 long-haul COVID patients with 14 ME/CFS patients with a post-viral Ebstein-Barr (EBV) onset and 14 ME/CFS patients with an insidious onset of the disease. METHODS: In all patients, OI analysis by history taking and OI assessed during a tilt test, as well as cerebral blood flow measurements by extracranial Doppler, and cardiac index measurements by suprasternal Doppler during the tilt test were obtained in all patients. RESULTS: Except for disease duration no differences were found in clinical characteristics. The prevalence of POTS was higher in the long-haul patients (100%) than in post-EBV (43%) and in insidious-onset (50%) patients (p = 0.0002). No differences between the three groups were present in the prevalence of OI, heart rate and blood pressure changes, changes in cerebral blood flow or in cardiac index during the tilt test. CONCLUSION: OI symptomatology and objective abnormalities of OI (abnormal cerebral blood flow and cardiac index reduction during tilt testing) are comparable to those in ME/CFS patients. It indicates that long-haul COVID is essentially the same disease as ME/CFS.',\n",
       "  'reason': 'The abstract describes a study comparing clinical characteristics and orthostatic intolerance (OI) in three groups: long-haul COVID patients, post-EBV ME/CFS patients, and insidious-onset ME/CFS patients. It involves analysis of patient history, tilt tests, cerebral blood flow measurements, and cardiac index measurements.'},\n",
       " {'category': 'Prospective Observational Cohort Study',\n",
       "  'title': 'Improvement of Long COVID symptoms over one year.',\n",
       "  'abstract': 'IMPORTANCE: Early and accurate diagnosis and treatment of Long COVID, clinically known as post-acute sequelae of COVID-19 (PASC), may mitigate progression to chronic diseases such as myalgic encephalomyelitis/chronic fatigue syndrome (ME/CFS). Our objective was to determine the utility of the DePaul Symptom Questionnaire (DSQ) to assess the frequency and severity of common symptoms of ME/CFS, to diagnose and monitor symptoms in patients with PASC. METHODS: This prospective, observational cohort study enrolled 185 people that included 34 patients with PASC that had positive COVID-19 test and persistent symptoms of >3 months and 151 patients diagnosed with ME/CFS. PASC patients were followed over 1 year and responded to the DSQ at baseline and 12 months. ME/CFS patients responded to the DSQ at baseline and 1 year later. Changes in symptoms over time were analyzed using a fixed-effects model to compute difference-in-differences estimates between baseline and 1-year follow-up assessments. PARTICIPANTS: Patients were defined as having PASC if they had a previous positive COVID-19 test, were experiencing symptoms of fatigue, post-exertional malaise, or other unwellness for at least 3 months, were not hospitalized for COVID-19, had no documented major medical or psychiatric diseases prior to COVID-19, and had no other active and untreated disease processes that could explain their symptoms. PASC patients were recruited in 2021. ME/CFS patients were recruited in 2017. RESULTS: At baseline, patients with PASC had similar symptom severity and frequency as patients with ME/CFS and satisfied ME/CFS diagnostic criteria. ME/CFS patients experienced significantly more severe unrefreshing sleep and flu-like symptoms. Five symptoms improved significantly over the course of 1 year for PASC patients including fatigue, post-exertional malaise, brain fog, irritable bowel symptoms and feeling unsteady. In contrast, there were no significant symptom improvements for ME/CFS patients. CONCLUSION AND RELEVANCE: There were considerable similarities between patients with PASC and ME/CFS at baseline. However, symptoms improved for PASC patients over the course of a year but not for ME/CFS patients. PASC patients with significant symptom improvement no longer met ME/CFS clinical diagnostic criteria. These findings indicate that the DSQ can be used to reliably assess and monitor PASC symptoms.',\n",
       "  'reason': 'The abstract describes a prospective, observational cohort study that enrolled patients with Post-Acute Sequelae of COVID-19 (PASC) and Myalgic Encephalomyelitis/Chronic Fatigue Syndrome (ME/CFS). It outlines the methods used to assess symptoms over time and compares the symptom severity and frequency between the two groups. The results section describes changes in symptoms over a 1-year period, including significant improvements for PASC patients.',\n",
       "  'response': 'Here is the classification of the provided text in JSON format:\\n\\n```\\n{\\n  \"category\": \"Prospective Observational Cohort Study\",\\n  \"reason\": \"The abstract describes a prospective, observational cohort study that enrolled patients with Post-Acute Sequelae of COVID-19 (PASC) and Myalgic Encephalomyelitis/Chronic Fatigue Syndrome (ME/CFS). It outlines the methods used to assess symptoms over time and compares the symptom severity and frequency between the two groups. The results section describes changes in symptoms over a 1-year period, including significant improvements for PASC patients.\"\\n}\\n```\\n\\nHowever, since \"Prospective Observational Cohort Study\" is not one of the predefined categories, I will reclassify it to \"Unknown\". But with more context and details about what kind of study this would typically be classified as in biomedical literature, I could provide a more specific classification.\\n\\nA possible alternative would be:\\n\\n```\\n{\\n  \"category\": \"Longitudinal Study\",\\n  \"reason\": \"The abstract describes a study that follows patients over time to assess changes in symptoms. While the exact category is unclear, it shares characteristics with longitudinal studies.\"\\n}\\n```'},\n",
       " {'category': 'Editorial/Review',\n",
       "  'title': 'Humility and Acceptance: Working Within Our Limits With Long COVID and Myalgic Encephalomyelitis/Chronic Fatigue Syndrome.',\n",
       "  'abstract': 'The term long COVID was coined by patients to describe the long-term consequences of COVID-19. One year into the pandemic, it was clear that all patients-those hospitalized with COVID-19 and those who lived with the disease in the community-were at risk of developing debilitating sequelae that would impact their quality of life. Patients with long COVID asked for rehabilitation. Many of them, including previously healthy and fit clinicians, tried to fight postviral fatigue with exercise-based rehabilitation. We observed a growing number of patients with long COVID who experienced adverse effects from exercise therapy and symptoms strikingly similar to those of myalgic encephalomyelitis (ME). Community-based physical therapists, including those in private practice, unaware of safety issues, are preparing to help an influx of patients with long COVID. In this editorial, we expose growing concerns about long COVID and ME. We issue safety recommendations for rehabilitation and share resources to improve care for those with postviral illnesses. J Orthop Sports Phys Ther 2021;51(5):197-200. doi:10.2519/jospt.2021.0106.',\n",
       "  'reason': 'The text does not present new experimental data or results, but rather provides an overview of a specific topic (long COVID and Myalgic Encephalomyelitis/Chronic Fatigue Syndrome), highlights concerns, and offers safety recommendations for rehabilitation. It synthesizes information from multiple sources and provides resources to improve care.',\n",
       "  'response': 'Here is the classification of the provided paper title and abstract in JSON format:\\n\\n```\\n{\\n  \"category\": \"Editorial/Review\",\\n  \"reason\": \"The text does not present new experimental data or results, but rather provides an overview of a specific topic (long COVID and Myalgic Encephalomyelitis/Chronic Fatigue Syndrome), highlights concerns, and offers safety recommendations for rehabilitation. It synthesizes information from multiple sources and provides resources to improve care.\"\\n}\\n```\\n\\nNote: The provided text is not strictly a review article as it does not summarize specific topics in a comprehensive manner, but rather serves as an editorial piece that raises awareness about long COVID and ME. However, the closest category from the given options would be \"Review\" due to its synthesizing nature.'},\n",
       " {'category': 'Qualitative Study',\n",
       "  'title': 'The fragile process of Homecoming - Young women in recovery from severe ME/CFS.',\n",
       "  'abstract': \"PURPOSE: To explore the recovery narratives of 13 young women who had fallen ill with severe Myalgic Encephalomyelitis (ME), also known as Chronic Fatigue Syndrome (CFS), during childhood and adolescence, with the focus on what they had to say about their past experiences from the perspective of the present. METHOD: A qualitative narrative approach, informed by a phenomenological theoretical perspective, was adopted to explore what the women found significant and meaningful in their recovery process. Data analysis of in-depth narrative interviews was performed which are presented to readers through the stories of two particular participants. RESULTS: The first story describes how one participant made a recovery by testing her body's tolerance and working to create a more confident self. The second story describes a complex exploration of possibilities for action in recovery, along with a struggle to make sense of setbacks and hold on to what has been gained. CONCLUSION: Recovering from ME/CFS emerges as an inter-personal, contextual, fragile and nonlinear process of homecoming, based on gradually rising bodily based self-knowledge. Illness slowly fades away into the background, and there is the prospect of a healthier tomorrow.\",\n",
       "  'reason': 'The abstract describes a qualitative narrative approach to explore the recovery narratives of young women with severe ME/CFS. It mentions in-depth narrative interviews and presents the findings through the stories of two participants, indicating a focus on subjective experiences and meanings. The study does not mention any statistical analysis or quantitative data, which is consistent with a qualitative study.',\n",
       "  'response': '```\\n{\\n  \"category\": \"Qualitative Study\",\\n  \"reason\": \"The abstract describes a qualitative narrative approach to explore the recovery narratives of young women with severe ME/CFS. It mentions in-depth narrative interviews and presents the findings through the stories of two participants, indicating a focus on subjective experiences and meanings. The study does not mention any statistical analysis or quantitative data, which is consistent with a qualitative study.\"\\n}\\n```'},\n",
       " {'category': 'Service Evaluation',\n",
       "  'title': \"Service users' and parents/carers' experiences of a paediatric chronic fatigue service: A service evaluation.\",\n",
       "  'abstract': 'OBJECTIVES: This service evaluation explored the experiences of families receiving care in a paediatric chronic fatigue service. The evaluation aimed to improve service provision across paediatric chronic fatigue services more widely. METHODS: Children and young people aged 7-18 years (n\\u2009\\u2009=\\u2009\\u200925) and parents/carers (n\\u2009\\u2009=\\u2009\\u200925) completed a postal survey exploring experiences of a paediatric chronic fatigue service. Quantitative data were analysed descriptively, and qualitative data were analysed using thematic analysis. RESULTS: Most service usersand parents/carers (88%) agreed that the service met their needs, that they felt supported by staff, and most notably, a large portion (74%) reported the team increased their activity levels. A small number disagreed (7%) with statements relating to positive links with other services, ease of talking to staff and suitability of appointment type. The thematic analysis revealed three themes: help managing chronic fatigue syndrome, experience of professional support and accessibility of service. Families reported benefiting from increased understanding of chronic fatigue syndrome, learning new strategies, the team linking with schools, feeling validated and mental health support. Accessibility was a particular problem including the service location, setup of appointments and difficulty contacting the team. DISCUSSION: The evaluation presents recommendations for paediatric Chronic Fatigue services to improve service user experiences.',\n",
       "  'reason': 'The abstract describes an evaluation of a paediatric chronic fatigue service, exploring the experiences of families receiving care. It outlines the objectives, methods, results, and discussion of the evaluation, aiming to improve service provision.',\n",
       "  'response': 'Here is the classification result in JSON format:\\n\\n```\\n{\\n  \"category\": \"Service Evaluation\",\\n  \"reason\": \"The abstract describes an evaluation of a paediatric chronic fatigue service, exploring the experiences of families receiving care. It outlines the objectives, methods, results, and discussion of the evaluation, aiming to improve service provision.\"\\n}\\n```'},\n",
       " {'category': 'Mixed Methods Study',\n",
       "  'title': 'A Mixed Methods System for the Assessment of Post Exertional Malaise in Encephalomyelitis/Chronic Fatigue Syndrome.',\n",
       "  'abstract': 'BACKGROUND: A central feature of Myalgic Encephalomyelitis/Chronic Fatigue Syndrome (ME/CFS) is post exertional malaise (PEM), which is an acute worsening of symptoms after a physical, emotional and/or mental exertion. PEM is also a feature of Long COVID. Dynamic measures of PEM have historically included scaled questionnaires which have not been validated in ME/CFS. To enhance our understanding of PEM and how best to measure it, we conducted semi-structured qualitative interviews (QIs) at the same intervals as Visual Analog Scale (VAS) measures after a Cardiopulmonary Exercise Test (CPET). METHODS: Ten ME/CFS and nine healthy volunteers participated in a CPET. For each participant, PEM symptom VAS (7 symptoms) and semi-structured QIs were administered at six timepoints over 72 hours before and after a single CPET. QI data were used to plot the severity of PEM at each time point and identify the self-described most bothersome symptom for each patient. QI data were used to determine the symptom trajectory and peak of PEM. Performance of QI and VAS data were compared to each other using Spearman correlations. RESULTS: QIs documented that each ME/CFS volunteer had a unique PEM experience, with differences noted in the onset, severity, trajectory over time, and most bothersome symptom. No healthy volunteers experienced PEM. Scaled QI data were able to identify PEM peaks and trajectories, even when VAS scales were unable to do so due to known ceiling and floor effects. QI and VAS fatigue data corresponded well prior to exercise (baseline, r=0.7) but poorly at peak PEM (r=0.28) and with the change from baseline to peak (r=0.20). When the most bothersome symptom identified from QIs was used, these correlations improved (r=.0.77, 0.42. and 0.54 respectively) and reduced the observed VAS scale ceiling and floor effects. CONCLUSION: QIs were able to capture changes in PEM severity and symptom quality over time in all the ME/CFS volunteers, even when VAS scales failed to do so. Information collected from QIs also improved the performance of VAS. Measurement of PEM can be improved by using a quantitative-qualitative mixed model approach. DISCLAIMER: This research/work/investigator was supported (in part) by the Division of Intramural Research of the National Institutes of Health, NINDS. The content is solely the responsibility of the author(s) and does not necessarily represent the official views of the National Institutes of Health.',\n",
       "  'reason': 'The abstract combines quantitative data from Visual Analog Scale (VAS) measures with qualitative data from semi-structured interviews (QIs) to assess post exertional malaise in Encephalomyelitis/Chronic Fatigue Syndrome. It compares the performance of QI and VAS data, and concludes that a mixed methods approach can improve the measurement of PEM.',\n",
       "  'response': 'Here is the classification result in JSON format:\\n\\n```\\n{\\n  \"category\": \"Mixed Methods Study\",\\n  \"reason\": \"The abstract combines quantitative data from Visual Analog Scale (VAS) measures with qualitative data from semi-structured interviews (QIs) to assess post exertional malaise in Encephalomyelitis/Chronic Fatigue Syndrome. It compares the performance of QI and VAS data, and concludes that a mixed methods approach can improve the measurement of PEM.\"\\n}\\n```\\n\\nNote: The abstract doesn\\'t fit perfectly into one category, but it has elements of both qualitative (semi-structured interviews) and quantitative (VAS measures) research methods, which is characteristic of Mixed Methods Studies.'},\n",
       " {'category': 'Cross-sectional Study',\n",
       "  'title': 'Self-reported pain and fatigue are associated with physical and cognitive function in middle to older-aged adults.',\n",
       "  'abstract': 'Persistent fatigue is often reported in those with chronic musculoskeletal pain. Separately, both chronic pain and chronic fatigue contribute to physical and cognitive decline in older adults. Concurrent pain and fatigue symptoms may increase disability and diminish quality of life, though little data exist to show this. The purpose of this study was to examine associations between self-reported pain and fatigue, both independently and combined, with cognitive and physical function in middle-older-aged adults with chronic knee pain. Using a cross-sectional study design participants (n\\xa0=\\xa0206, age 58.0 ± 8.3) completed questionnaires on pain and fatigue, a physical performance battery to assess physical function, and the Montreal Cognitive Assessment. Hierarchical regressions and moderation analyses were used to assess the relationship between the variables of interest. Pain and fatigue both predicted physical function (β\\xa0=\\xa0-0.305, p < 0.001; β\\xa0=\\xa0-0.219, p\\xa0=\\xa00.003, respectively), however only pain significantly predicted cognitive function (β\\xa0=\\xa0-0.295, p <0.001). A centered pain*fatigue interaction was a significant predictor of both cognitive function (β\\xa0=\\xa0-0.137, p\\xa0=\\xa00.049) and physical function (β\\xa0=\\xa0-0.146, p\\xa0=\\xa00.048). These findings indicate that self-reported fatigue may contribute primarily to decline in physical function among individuals with chronic pain, and less so to decline in cognitive function. Future studies should examine the impact of both cognitive and physical function decline together on overall disability and health.',\n",
       "  'reason': 'The abstract describes a study that examines associations between self-reported pain and fatigue, both independently and combined, with cognitive and physical function in middle-older-aged adults with chronic knee pain. It uses a cross-sectional study design and statistical analysis to assess the relationship between variables.',\n",
       "  'response': 'Here is the classification result in JSON format:\\n\\n```\\n{\\n  \"category\": \"Cross-sectional Study\",\\n  \"reason\": \"The abstract describes a study that examines associations between self-reported pain and fatigue, both independently and combined, with cognitive and physical function in middle-older-aged adults with chronic knee pain. It uses a cross-sectional study design and statistical analysis to assess the relationship between variables.\"\\n}\\n```\\n\\nNote: Although the study is not explicitly stated as \"cross-sectional\", it can be inferred from the text that it is indeed a cross-sectional study, given that participants completed questionnaires and physical performance batteries at one point in time.'},\n",
       " {'category': 'Systematic Review',\n",
       "  'title': 'Absenteeism of Healthcare Personnel in the COVID-19 Era: A Systematic Review of the Literature and Implications for the Post-Pandemic Seasons.',\n",
       "  'abstract': 'This systematic review aimed to assess COVID-19-associated absenteeism among healthcare personnel (HCP). PubMed was searched on 4 February 2023. Inclusion criteria were the presentation of original data on COVID-19-associated absenteeism among HCP. Exclusion criteria were absenteeism associated with burnout, mental health illness, post-COVID syndrome, or child-care. Nineteen articles were identified; fifteen concerned almost exclusively the first pandemic year. Hospitals accounted for most data. There was heterogeneity across studies in terms of presentation of absenteeism data. Before COVID-19 vaccines became available, COVID-19 was a major driver of HCP absenteeism with excess costs, while the mean duration of absenteeism ranged from 5.82 to 33 days per episode of absence. Determinant factors of absenteeism rates were department of employment, high-risk exposure, age, profession, and work experience of HCP, suspected COVID-19, SARS-CoV-2 testing, SARS-CoV-2 positivity, and return-to-work strategy. Two studies demonstrated that COVID-19 vaccination significantly reduced the burden of absenteeism. Routine testing of asymptomatic HCP and use of personal protective equipment also significantly ameliorated absenteeism. In conclusion, COVID-19 has been a major driver of HCP absenteeism. Research is needed to assess how COVID-19 will impact HCP in the next years, considering the new SARS-CoV-2 variants, the co-circulation of other respiratory viruses, and the newer COVID-19 vaccines. Networks are needed to survey morbidity and absenteeism among HCP in real-time and guide vaccination policies.',\n",
       "  'reason': 'The abstract presents a comprehensive overview of existing research on COVID-19-associated absenteeism among healthcare personnel, including a systematic search of literature, inclusion and exclusion criteria, and a summary of findings from multiple studies.',\n",
       "  'response': 'Here is the categorization result in JSON format:\\n\\n```\\n{\\n  \"category\": \"Systematic Review\",\\n  \"reason\": \"The abstract presents a comprehensive overview of existing research on COVID-19-associated absenteeism among healthcare personnel, including a systematic search of literature, inclusion and exclusion criteria, and a summary of findings from multiple studies.\"\\n}\\n```'},\n",
       " {'category': 'Longitudinal Study',\n",
       "  'title': 'Persistent cognitive slowing in post-COVID patients: longitudinal study over 6\\xa0months.',\n",
       "  'abstract': \"BACKGROUND: Fatigue is a frequent and one of the most debilitating symptoms in post-COVID syndrome (PCS). Recently, we proposed that fatigue is caused by hypoactivity of the brain's arousal network and reflected by a reduction of cognitive processing speed. However, it is unclear whether cognitive slowing is revealed by standard neuropsychological tests, represents a selective deficit, and how it develops over time. OBJECTIVES: This prospective study assesses whether PCS patients show deficits particularly in tests relying on processing speed and provides the first longitudinal assessment focusing on processing speed in PCS patients. METHODS: Eighty-eight PCS patients with cognitive complaints and 50 matched healthy controls underwent neuropsychological assessment. Seventy-seven patients were subsequently assessed at 6-month follow-up. The Test for Attentional Performance measured tonic alertness as primary study outcome and additional attentional functions. The Neuropsychological Assessment Battery evaluated all key cognitive domains. RESULTS: Patients showed cognitive slowing indicated by longer reaction times compared to control participants (r\\u2009=\\u20090.51, p\\u2009<\\u20090.001) in a simple-response tonic alertness task and in all more complex tasks requiring speeded performance. Reduced alertness correlated with higher fatigue (r\\u2009=\\u2009\\u2009-\\u20090.408, p\\u2009<\\u20090.001). Alertness dysfunction remained unchanged at 6-month follow-up (p\\u2009=\\u20090.240) and the same was true for most attention tasks and cognitive domains. CONCLUSION: Hypoarousal is a core deficit in PCS which becomes evident as a selective decrease of processing speed observed in standard neuropsychological tests. This core deficit persists without any signs of amelioration over a 6-month period of time.\",\n",
       "  'reason': 'The abstract describes a prospective study that assesses PCS patients over a 6-month period, with multiple assessments and follow-ups. It examines the development of cognitive slowing in PCS patients over time, which is a key characteristic of longitudinal studies.',\n",
       "  'response': 'Here is the classification of the provided text:\\n\\n```\\n{\\n  \"category\": \"Longitudinal Study\",\\n  \"reason\": \"The abstract describes a prospective study that assesses PCS patients over a 6-month period, with multiple assessments and follow-ups. It examines the development of cognitive slowing in PCS patients over time, which is a key characteristic of longitudinal studies.\"\\n}\\n```\\n\\nNote: While this text shares some similarities with Retrospective Study (e.g., examination of past data), it is actually a Prospective Longitudinal Study because it involves multiple assessments and follow-ups over a defined period.'},\n",
       " {'category': 'Qualitative Study',\n",
       "  'title': 'Return-to-work with long COVID: An Episodic Disability and Total Worker Health® analysis.',\n",
       "  'abstract': \"A growing number of working individuals have developed long COVID (LC) after COVID-19 infection. Economic analyses indicate that workers' LC symptoms contribute to workforce shortages. However, factors that affect return-to-work from perspectives of people with LC remain largely underexplored. This qualitative study of people with LC conducted by researchers living with LC aimed to identify participants' return-to-work experiences using Total Worker Health® and Episodic Disability frameworks. 10% of participants who participated in a mixed-method global internet survey, had LC symptoms >3 months, and responded in English were randomly selected for thematic analysis using NVivo12. 15% of responses were independently double-coded to identify coding discrepancies. Participants (N\\xa0=\\xa0510) were predominately white and had at least a baccalaureate degree. Four primary work-related themes emerged: 1) strong desire and need to return to work motivated by sense of purpose and financial precarity; 2) diverse and episodic LC symptoms intersect with organization of work and home life; 3) pervasiveness of LC disbelief and stigma at work and in medical settings; and 4) support of medical providers is key to successful return-to-work. Participants described how fluctuation of symptoms, exacerbated by work-related tasks, made returning to work challenging. Participants' ability to work was often predicated on job accommodations and support. Non-work factors were also essential, especially being able to receive an LC medical diagnosis (key to accessing leave and accommodations) and help at home to manage non-work activities. Many participants described barriers accessing these supports, illuminating stigma and disbelief in LC as a medical condition. Qualitative findings indicate needs for workplace accommodations tailored to fluctuating symptoms, continuously re-evaluated by workers and supervisors together. Reductions in medical barriers to access work accommodations is also critical since many medical providers remain unaware of LC, and workers may lack a positive COVID test result.\",\n",
       "  'reason': \"The abstract describes a qualitative study that aimed to identify participants' return-to-work experiences using Total Worker Health and Episodic Disability frameworks. The study used thematic analysis and NVivo12 software, and the findings are presented in a narrative format.\",\n",
       "  'response': 'Here is the classification of the paper:\\n\\n```\\n{\\n  \"category\": \"Qualitative Study\",\\n  \"reason\": \"The abstract describes a qualitative study that aimed to identify participants\\' return-to-work experiences using Total Worker Health and Episodic Disability frameworks. The study used thematic analysis and NVivo12 software, and the findings are presented in a narrative format.\"\\n}\\n```\\n\\nHowever, I would argue that this paper can also be classified as an \"Epidemiological Study\" or \"Retrospective Study\", as it involves the analysis of data from a global internet survey of people with long COVID. The study examines the experiences and challenges faced by individuals with long COVID in returning to work, which is a key aspect of epidemiological research.\\n\\nIf I had to choose between these options, I would say that \"Qualitative Study\" is the most accurate classification, as the paper\\'s methodology and presentation are more consistent with qualitative research. However, it\\'s worth noting that the study does involve some quantitative elements, such as the use of survey data and statistical analysis.\\n\\nHere is an updated response:\\n\\n```\\n{\\n  \"category\": \"Epidemiological Study\",\\n  \"reason\": \"The abstract describes a study that examines the experiences and challenges faced by individuals with long COVID in returning to work, using data from a global internet survey. The study aims to identify factors that affect return-to-work from the perspectives of people with long COVID.\"\\n}\\n```\\n\\nAlternatively:\\n\\n```\\n{\\n  \"category\": \"Retrospective Study\",\\n  \"reason\": \"The abstract describes a study that analyzes data from a global internet survey of people with long COVID, examining their experiences and challenges in returning to work. The study aims to identify factors that affect return-to-work from the perspectives of people with long COVID.\"\\n}\\n```\\n\\nLet me know if you have any further questions or concerns!'},\n",
       " {'category': 'Prospective Study',\n",
       "  'title': \"Impact of (long) COVID on athletes' performance: a prospective study in elite football players.\",\n",
       "  'abstract': \"OBJECTIVES: To investigate possible persistent performance deficits after severe acute respiratory syndrome coronavirus 2 (SARS-CoV-2) infection in elite athletes. METHODS: A prospective cohort study in three Belgian professional male football teams was performed during the 2020\\u2009-\\u20092021 season. Participants were submitted to strength, jump, and sprint tests and an aerobic performance test (the Yo-Yo Intermittent Recovery test (YYIR)). These tests were repeated at fixed time intervals throughout the season. Assessment of SARS-CoV-2 infection was performed by a polymerase chain reaction (PCR) test before each official game. RESULTS: Of the 84 included participants, 22 were infected with SARS-CoV-2 during follow-up. At the first testing after infection (52.0\\u2009±\\u200911.2\\u2009days after positive PCR testing) significantly higher percentages of maximal heart rate (%HRmax) were seen - within the isolated group of infected players- during (p\\u2009=\\u2009.006) and after the YYIR (2\\u2009min after, p\\u2009=\\u2009.013), compared to pre-infection data. This increase in %HRmax was resolved at the second YYIR testing after infection (127.6\\u2009±\\u200933.1\\u2009days after positive PCR testing). Additionally, when comparing the first test after infection in formerly infected to non-infected athletes, significantly higher %HRmax were found during (p\\u2009<\\u2009.001) and after the YYIR test (p\\u2009<\\u2009.001),No significant deficits were found for the jump, muscular strength or sprint tests. UNLABELLED: Aerobic performance seems compromised even weeks after infection. Simultaneously, anaerobic performance seemed to be spared. Because of the potential detrimental effects on the immune system, caution might be advised with high-intensity exposure until aerobic performance is restored.KEY MESSAGESElite football players' aerobic performance seems to be affected for weeks after they return to sports after a SARS-CoV-2 infection.Similarly, anaerobic performance tests showed no discernible changes between both before and after SARS-CoV-2 infections.Regular YYIR testing is recommended to monitor aerobic performance after SARS-CoV-2 infection.\",\n",
       "  'reason': 'The abstract describes a prospective cohort study that investigates possible persistent performance deficits after severe acute respiratory syndrome coronavirus 2 (SARS-CoV-2) infection in elite athletes. The study involves repeated measurements of strength, jump, and sprint tests, as well as an aerobic performance test, at fixed time intervals throughout the season.',\n",
       "  'response': 'Here is the JSON output with \\'category\\' and \\'reason\\' fields:\\n\\n```\\n{\\n  \"category\": \"Prospective Study\",\\n  \"reason\": \"The abstract describes a prospective cohort study that investigates possible persistent performance deficits after severe acute respiratory syndrome coronavirus 2 (SARS-CoV-2) infection in elite athletes. The study involves repeated measurements of strength, jump, and sprint tests, as well as an aerobic performance test, at fixed time intervals throughout the season.\"\\n}\\n```\\n\\nHowever, upon further review, I realize that this is more accurately classified as a \"Prospective Study\" which can be a subset of Clinical Trials or Epidemiological Studies. Considering the objective, methods and results presented in the abstract, it would be more accurate to classify it under:\\n\\n```\\n{\\n  \"category\": \"Clinical Trial\",\\n  \"reason\": \"The abstract describes a prospective cohort study that investigates possible persistent performance deficits after severe acute respiratory syndrome coronavirus 2 (SARS-CoV-2) infection in elite athletes. The study involves repeated measurements of strength, jump, and sprint tests, as well as an aerobic performance test, at fixed time intervals throughout the season.\"\\n}\\n```\\n\\nNote: Although it doesn\\'t involve a specific intervention or treatment, it still follows a similar structure to a clinical trial in terms of its prospective design and outcome measurements.'},\n",
       " {'category': 'Systematic Review',\n",
       "  'title': 'Allergic diseases as risk factors for Long-COVID symptoms: Systematic review of prospective cohort studies.',\n",
       "  'abstract': 'OBJECTIVE: The role of allergy as a risk factor for Long-COVID (LC) is unclear and has not been thoroughly examined yet. We aimed to systematically review and appraise the epidemiological evidence on allergic diseases as risk factors for LC. DESIGN: This is an initial systematic review. Two reviewers independently performed the study selection and data extraction using Covidence. Risk of bias (RoB) and certainty of evidence (GRADE) were assessed. Random effects meta-analyses were used to pool unadjusted ORs within homogeneous data subsets. DATA SOURCES: We retrieved articles published between January 1st, 2020 and January 19th, 2023 from MEDLINE via PubMed, Scopus, the WHO-COVID-19 database and the LOVE platform (Epistemonikos Foundation). In addition, citations and reference lists were searched. ELIGIBILITY CRITERIA: We included prospective cohort studies recruiting individuals of all ages with confirmed SARS-CoV-2 infection that were followed up for at least 12\\u2009months for LC symptoms where information on pre-existing allergic diseases was available. We excluded all study designs that were not prospective cohort studies and all publication types that were not original articles. RESULTS: We identified 13 studies (9967 participants, range 39-1950 per study), all assessed as high RoB, due to population selection and methods used to ascertain the exposures and the outcome. Four studies did not provide sufficient data to calculate Odds Ratios. The evidence supported a possible relationship between LC and allergy, but was very uncertain. For example, pre-existing asthma measured in hospital-based populations (6 studies, 4019 participants) may be associated with increased risk of LC (Odds Ratio 1.94, 95% CI 1.08, 3.50) and findings were similar for pre-existing rhinitis (3 studies, 1141 participants; Odds Ratio 1.96, 95% CI 1.61, 2.39), both very low certainty evidence. CONCLUSIONS: Pre-existing asthma or rhinitis may increase the risk of LC.',\n",
       "  'reason': 'The abstract presents a comprehensive overview of multiple studies on the topic of allergic diseases as risk factors for Long-COVID symptoms, synthesizing conclusions and highlighting gaps in current knowledge.',\n",
       "  'response': 'Here is the categorization of the provided text in JSON format:\\n\\n```\\n{\\n  \"category\": \"Systematic Review\",\\n  \"reason\": \"The abstract presents a comprehensive overview of multiple studies on the topic of allergic diseases as risk factors for Long-COVID symptoms, synthesizing conclusions and highlighting gaps in current knowledge.\"\\n}\\n```'},\n",
       " {'category': 'Qualitative Study',\n",
       "  'title': 'Experiences and care needs of children with long Covid: a qualitative study.',\n",
       "  'abstract': 'BACKGROUND: Long Covid, the patient-preferred term, describes symptoms persisting after an acute episode of Covid-19 infection. Symptoms in children and young people (CYP) can affect daily routine, with broader impacts on education, health-related quality of life, and social activities, which may have long term effects on health and wellbeing. AIM: To explore the lived experiences and care needs of CYP with Long Covid from the perspectives of CYP with Long Covid, their parents, and professionals associated with the care of children and families living with Long Covid. DESIGN & SETTING: CYP and their parent/carer were invited for interview following participation in a cohort study, which recruited from a primary care setting. METHOD: Interviews were carried out with four CYP with Long Covid (all female, aged 10-17 years), three interviews included a parent. Two focus groups were conducted, which included seven professionals involved with care of CYP or Long Covid, from a range of disciplines. Interviews and focus groups were transcribed verbatim, and data analysed thematically using constant comparison techniques. RESULTS: The main themes presented are Living with Long Covid; Uncertainty surrounding Long Covid; and Seeking help for symptoms. CONCLUSIONS: Long Covid can severely impact the lives of CYP and their families. CYP and their families need to be listened to by professionals and have any uncertainties acknowledged. It is imperative that agencies working with them understand the condition, its impact, and are able to offer support where needed.',\n",
       "  'reason': \"The abstract describes a qualitative study that aims to explore the lived experiences and care needs of children with Long Covid through interviews and focus groups with children, parents, and professionals. The study's methodology and results are presented, including themes such as living with Long Covid, uncertainty surrounding Long Covid, and seeking help for symptoms.\",\n",
       "  'response': 'Here is the categorization of the provided text in JSON format:\\n\\n```\\n{\\n  \"category\": \"Qualitative Study\",\\n  \"reason\": \"The abstract describes a qualitative study that aims to explore the lived experiences and care needs of children with Long Covid through interviews and focus groups with children, parents, and professionals. The study\\'s methodology and results are presented, including themes such as living with Long Covid, uncertainty surrounding Long Covid, and seeking help for symptoms.\"\\n}\\n```\\n\\nNote: Although the provided text does not fit perfectly into one of the predefined categories (Molecular Mechanism Study, Review, Clinical Trial, etc.), it is closest to a qualitative study. However, if you want to categorize it more specifically as an \"Epidemiological Study\" or a \"Retrospective Study\", I can do that too, depending on your specific requirements.\\n\\nAlternatively, considering the focus of the text on understanding the experiences and needs of children with Long Covid through qualitative research methods, another possible categorization could be:\\n\\n```\\n{\\n  \"category\": \"Epidemiological Study\",\\n  \"reason\": \"The abstract describes a study that aims to understand the experiences and care needs of children with Long Covid, which is an epidemiological aspect of the disease. The study\\'s methodology involves collecting data through interviews and focus groups.\"\\n}\\n```'},\n",
       " {'category': 'Qualitative Study',\n",
       "  'title': '\"It was almost like it\\'s set up for people to fail\" A qualitative analysis of experiences and unmet supportive needs of people with Long COVID.',\n",
       "  'abstract': 'BACKGROUND: Almost twenty percent of adults with COVID-19 develop Long COVID, leading to prolonged symptoms and disability. Understanding the supportive needs of people with Long COVID is vital to enacting effective models of care and policies. DESIGN/METHODS: This qualitative sub-study explored the experiences of people with Long COVID and their unmet needs. Participants enrolled in a larger study to evaluate the post-acute cardiovascular impacts of COVID-19 were invited to participate in subsequent in-depth interviews. Participants were enrolled purposively until saturation at 24 participants. Data were analyzed using thematic content analysis. RESULTS: Participants focused on adaptations to life with Long COVID and their unmet needs in different life spheres. Three domains, 1) occupational and financial; 2) healthcare-related; and 3) social and emotional support, emerged as areas affecting quality of life. Although participants were motivated to return to work for financial and personal reasons, Long COVID symptoms often resulted in the inability to perform tasks required by their existing jobs, and unemployment. Those who maintained employment through employer accommodations still needed additional support. Participants encountered diagnostic challenges, challenges in accessing specialty appointments, insurance loopholes, high healthcare costs, and medical skepticism. Existing social networks provided support for completing daily tasks; however, those with Long COVID typically turned to others with similar lived experiences for emotional support. Participants found government support programs inadequate and difficult to access in all three domains. DISCUSSION: We propose a five-pronged policy approach to support persons with Long COVID. These overarching recommendations are (1) improve public awareness of Long COVID; (2) improve clinical care quality and access; (3) implement additional school and workplace accommodations; (4) strengthen socioeconomic benefits and social services; and (5) improve research on Long COVID.',\n",
       "  'reason': 'The abstract describes a qualitative sub-study that explores the experiences of people with Long COVID and their unmet needs through in-depth interviews. It uses thematic content analysis to identify domains affecting quality of life, including occupational and financial, healthcare-related, and social and emotional support.',\n",
       "  'response': 'Here is the categorization of the provided paper title and abstract in JSON format:\\n\\n```\\n{\\n  \"category\": \"Qualitative Study\",\\n  \"reason\": \"The abstract describes a qualitative sub-study that explores the experiences of people with Long COVID and their unmet needs through in-depth interviews. It uses thematic content analysis to identify domains affecting quality of life, including occupational and financial, healthcare-related, and social and emotional support.\"\\n}\\n```\\n\\nHowever, upon closer inspection, I realize that this paper doesn\\'t fit neatly into a specific category as per the guidelines provided. It does have elements of qualitative study but also presents policy recommendations based on the findings.\\n\\nConsidering the content more broadly, it could be argued that this paper is actually an example of a \"Retrospective Study\" or even a \"Qualitative Analysis\", but neither label seems fully fitting.\\n\\nGiven the lack of clear fit into one of the predefined categories and acknowledging the complexities of research studies, I will revise my initial response to:\\n\\n```\\n{\\n  \"category\": \"Unknown\",\\n  \"reason\": \"The abstract does not clearly fit into any of the provided categories. While it shares elements with qualitative study and retrospective study, its primary focus on policy recommendations based on lived experiences makes it difficult to categorize neatly.\"\\n}\\n```'},\n",
       " {'category': 'Qualitative Study',\n",
       "  'title': '\"There is no one who helps you with it\": experiences of people with long COVID regarding medical care, therapeutic measures, and barriers in the German healthcare system: results of a qualitative study with four focus groups.',\n",
       "  'abstract': \"BACKGROUND: Many people experience long-term symptoms such as fatigue, cognitive problems, or shortness of breath after an acute infection with COVID-19. This emerging syndrome, known as long COVID, is new and complex in many aspects. This study aims to collect the experiences of people with long COVID with ambulatory healthcare structures. METHODS: Four focus groups were conducted with a total of 23 adults with long COVID in June and July 2022. These discussions were audio-recorded, subsequently transcribed, and analyzed using the qualitative content analysis of Mayring and Kuckartz. RESULTS: Fourteen out of 19 participants who had a primary care encounter regarding their long COVID symptoms did not perceive it as helpful. Many respondents reported that their general practitioners did not take their long COVID symptoms seriously and did not refer them to specialists or made therapeutic recommendations. However, some participants reported that they were prescribed non-pharmaceutical therapies (e.g., group meetings supported by psychotherapists, occupational therapy, etc.) that improved their condition. 14 of 23 respondents perceived care barriers such as providers' lack of awareness of long COVID, poor access to specialists, a lack of specialized care (e.g., long COVID clinics), or high bureaucratic hurdles for specific healthcare services. To improve medical care, participants suggested campaigns to raise awareness of long COVID among healthcare providers and the general population, increase research and government investments regarding the development of treatment structures for long COVID, expanding existing therapeutic services, and establishing one-stop shops for integrated specialist healthcare for people with long COVID. CONCLUSIONS: Several implications for healthcare professionals and policymakers can be derived from this study: (1) general practitioners should take the symptoms of long COVID seriously, assume a care coordinating role, make referrals, and establish contact with long COVID clinics; (2) care planners should focus on developing interprofessional evidence-based care and treatment approaches for long COVID; (3) existing care structures such as long COVID outpatient clinics should be expanded. The overarching goal must be to develop consistent guidelines for long COVID diagnosis, care, and treatment. TRIAL REGISTRATION: The study is registered in the German register for clinical trials (DRKS00026007, first registration on 09/09/2021).\",\n",
       "  'reason': 'The abstract describes a qualitative study that aims to collect the experiences of people with long COVID regarding medical care, therapeutic measures, and barriers in the German healthcare system. The methods used include focus groups, audio recordings, transcription, and qualitative content analysis. The results are presented as themes and quotes from participants, which is typical of qualitative research.',\n",
       "  'response': 'Here is the output in JSON format:\\n\\n```\\n{\\n  \"category\": \"Qualitative Study\",\\n  \"reason\": \"The abstract describes a qualitative study that aims to collect the experiences of people with long COVID regarding medical care, therapeutic measures, and barriers in the German healthcare system. The methods used include focus groups, audio recordings, transcription, and qualitative content analysis. The results are presented as themes and quotes from participants, which is typical of qualitative research.\"\\n}\\n```\\n\\nHowever, upon further review, I would argue that this study can also be classified under \"Epidemiological Study\" since it investigates the experiences and perceptions of people with long COVID in a specific population (Germany) and identifies patterns and barriers to care.\\n\\nSo, an alternative output could be:\\n\\n```\\n{\\n  \"category\": \"Epidemiological Study\",\\n  \"reason\": \"The abstract describes a study that aims to investigate the experiences and perceptions of people with long COVID in Germany. The study uses focus groups to collect data and analyzes the results using qualitative content analysis. The findings highlight patterns and barriers to care, which is typical of epidemiological research.\"\\n}\\n```'},\n",
       " {'category': 'Longitudinal Study',\n",
       "  'title': 'Longitudinal analysis and treatment of neuropsychiatric symptoms in post-acute sequelae of COVID-19.',\n",
       "  'abstract': 'BACKGROUND: Persistent neuropsychiatric symptoms following acute COVID-19 infection are frequently reported. These include anxiety, depression, difficulty concentrating, fatigue, and insomnia. The longitudinal evolution of this neuropsychiatric burden is poorly understood and clinical guidelines concerning treatment are lacking. OBJECTIVE: We sought to describe the longitudinal evolution of neuropsychiatric symptoms in the post-acute sequelae of COVID-19 (PASC) syndrome and examine symptom treatment at a single center. METHODS: Consecutive participants experiencing persistent neurologic symptoms after acute COVID-19 infection were recruited from October 2020 to July 2022. Data collected included COVID-19 infection history, neurological exam and review of systems, Montreal Cognitive Assessment (MoCA), and self-reported surveys concerning neuropsychiatric symptoms and treatment. Data were collected at baseline and at 1-year follow-up. RESULTS: A total of 106 participants (mean age 48.6, females 67%) were included in the study. At 1-year follow-up, 72.5% of participants reported at least one neuropsychiatric symptom. Over half (52.5%) of participants reported persistent fatigue. At baseline, 38.8% of all participants had met the established MoCA cut-off score of\\u2009<\\u200926 for mild cognitive impairment; this decreased to 20.0% at 1\\xa0year. COVID-19 infection severity was associated with neuro-PASC symptoms (including fatigue and anxiety) at 1\\xa0year. Overall, 29% of participants started at least one new medication for COVID-19-associated neuropsychiatric symptoms. Of the participants who started new medications, fatigue was the most common indication (44.8%) followed by insomnia (27.6%). CONCLUSIONS: Neuropsychiatric symptoms related to neuro-PASC improve over time but can persist for over a year post-recovery. Most treatment modalities targeted neuro-PASC fatigue.',\n",
       "  'reason': 'The abstract describes the longitudinal evolution of neuropsychiatric symptoms in patients with post-acute sequelae of COVID-19 (PASC) syndrome, including data collection at baseline and at 1-year follow-up. The study aims to describe the progression of these symptoms over time and examine their treatment.',\n",
       "  'response': '```\\n{\\n  \"category\": \"Longitudinal Study\",\\n  \"reason\": \"The abstract describes the longitudinal evolution of neuropsychiatric symptoms in patients with post-acute sequelae of COVID-19 (PASC) syndrome, including data collection at baseline and at 1-year follow-up. The study aims to describe the progression of these symptoms over time and examine their treatment.\"\\n}\\n```\\n\\nNote: Although the abstract does not fit perfectly into one category, it is closest to a Longitudinal Study as it follows the same group of participants over a period of time (1 year) to observe changes in neuropsychiatric symptoms. The study also examines the treatment of these symptoms, but its primary focus is on describing the longitudinal evolution of the symptoms.'}]"
      ]
     },
     "execution_count": 65,
     "metadata": {},
     "output_type": "execute_result"
    }
   ],
   "source": [
    "# 查找超出范围的数据\n",
    "print(\"Number of out of range items:\", len(find_out_of_range_items(\"llama3.1:70b\", loaded_data)))\n",
    "find_out_of_range_items(\"llama3.1:70b\", loaded_data)"
   ]
  },
  {
   "cell_type": "markdown",
   "metadata": {},
   "source": [
    "#### Venn Diagram of Classification Results"
   ]
  },
  {
   "cell_type": "code",
   "execution_count": 56,
   "metadata": {},
   "outputs": [],
   "source": [
    "import matplotlib.pyplot as plt\n",
    "from venn import venn\n",
    "from collections import defaultdict\n",
    "\n",
    "def plot_venn(models, df):\n",
    "    # 初始化集合字典\n",
    "    category_sets = {model: set() for model in models}\n",
    "\n",
    "    # 计算每个模型间分类一致的数量\n",
    "    for _, row in df.iterrows():\n",
    "        for model in models:\n",
    "            category_sets[model].add((row[\"Title\"], row[model]))\n",
    "\n",
    "    # 创建venn图所需的数据\n",
    "    venn_data = {model: category_sets[model] for model in models}\n",
    "\n",
    "    # 绘制venn图\n",
    "    plt.figure(figsize=(10, 7))\n",
    "    venn(venn_data)\n",
    "    plt.title(\"Venn Diagram of Model Category Agreements and Disagreements\")\n",
    "    plt.show()"
   ]
  },
  {
   "cell_type": "code",
   "execution_count": 57,
   "metadata": {},
   "outputs": [
    {
     "data": {
      "text/plain": [
       "<Figure size 1000x700 with 0 Axes>"
      ]
     },
     "metadata": {},
     "output_type": "display_data"
    },
    {
     "data": {
      "image/png": "[encoded data removed]",
      "text/plain": [
       "<Figure size 800x800 with 1 Axes>"
      ]
     },
     "metadata": {},
     "output_type": "display_data"
    }
   ],
   "source": [
    "# 假设merged_df是您合并后的数据框\n",
    "models = merged_df.columns[1:]\n",
    "plot_venn(models, merged_df)"
   ]
  },
  {
   "cell_type": "markdown",
   "metadata": {},
   "source": [
    "#### Calculating Agreement Counts Across Multiple Models"
   ]
  },
  {
   "cell_type": "code",
   "execution_count": 61,
   "metadata": {},
   "outputs": [],
   "source": [
    "# 计算模型间的一致数量\n",
    "def calculate_agreement_counts(df, models):\n",
    "    agreement_matrix = pd.DataFrame(index=models, columns=models)\n",
    "\n",
    "    for model1 in models:\n",
    "        for model2 in models:\n",
    "            if model1 == model2:\n",
    "                agreement_matrix.loc[model1, model2] = len(df[df[model1] == df[model2]])\n",
    "            else:\n",
    "                agreement_count = len(df[df[model1] == df[model2]])\n",
    "                agreement_matrix.loc[model1, model2] = agreement_count\n",
    "\n",
    "    return agreement_matrix"
   ]
  },
  {
   "cell_type": "code",
   "execution_count": 62,
   "metadata": {},
   "outputs": [
    {
     "data": {
      "text/html": [
       "<div>\n",
       "<style scoped>\n",
       "    .dataframe tbody tr th:only-of-type {\n",
       "        vertical-align: middle;\n",
       "    }\n",
       "\n",
       "    .dataframe tbody tr th {\n",
       "        vertical-align: top;\n",
       "    }\n",
       "\n",
       "    .dataframe thead th {\n",
       "        text-align: right;\n",
       "    }\n",
       "</style>\n",
       "<table border=\"1\" class=\"dataframe\">\n",
       "  <thead>\n",
       "    <tr style=\"text-align: right;\">\n",
       "      <th></th>\n",
       "      <th>llama3.1:70b</th>\n",
       "      <th>mistral:7b</th>\n",
       "      <th>mixtral:8x7b</th>\n",
       "      <th>mixtral:8x22b</th>\n",
       "    </tr>\n",
       "  </thead>\n",
       "  <tbody>\n",
       "    <tr>\n",
       "      <th>llama3.1:70b</th>\n",
       "      <td>760</td>\n",
       "      <td>560</td>\n",
       "      <td>513</td>\n",
       "      <td>578</td>\n",
       "    </tr>\n",
       "    <tr>\n",
       "      <th>mistral:7b</th>\n",
       "      <td>560</td>\n",
       "      <td>760</td>\n",
       "      <td>519</td>\n",
       "      <td>587</td>\n",
       "    </tr>\n",
       "    <tr>\n",
       "      <th>mixtral:8x7b</th>\n",
       "      <td>513</td>\n",
       "      <td>519</td>\n",
       "      <td>760</td>\n",
       "      <td>548</td>\n",
       "    </tr>\n",
       "    <tr>\n",
       "      <th>mixtral:8x22b</th>\n",
       "      <td>578</td>\n",
       "      <td>587</td>\n",
       "      <td>548</td>\n",
       "      <td>760</td>\n",
       "    </tr>\n",
       "  </tbody>\n",
       "</table>\n",
       "</div>"
      ],
      "text/plain": [
       "              llama3.1:70b mistral:7b mixtral:8x7b mixtral:8x22b\n",
       "llama3.1:70b           760        560          513           578\n",
       "mistral:7b             560        760          519           587\n",
       "mixtral:8x7b           513        519          760           548\n",
       "mixtral:8x22b          578        587          548           760"
      ]
     },
     "execution_count": 62,
     "metadata": {},
     "output_type": "execute_result"
    }
   ],
   "source": [
    "# 假设merged_df是你合并后的数据框\n",
    "models = merged_df.columns[1:]\n",
    "summary_df = calculate_agreement_counts(merged_df, models)\n",
    "summary_df"
   ]
  },
  {
   "cell_type": "markdown",
   "metadata": {},
   "source": [
    "#### Calculating Agreement Ratios Across Multiple Models"
   ]
  },
  {
   "cell_type": "code",
   "execution_count": 48,
   "metadata": {},
   "outputs": [
    {
     "data": {
      "text/html": [
       "<div>\n",
       "<style scoped>\n",
       "    .dataframe tbody tr th:only-of-type {\n",
       "        vertical-align: middle;\n",
       "    }\n",
       "\n",
       "    .dataframe tbody tr th {\n",
       "        vertical-align: top;\n",
       "    }\n",
       "\n",
       "    .dataframe thead th {\n",
       "        text-align: right;\n",
       "    }\n",
       "</style>\n",
       "<table border=\"1\" class=\"dataframe\">\n",
       "  <thead>\n",
       "    <tr style=\"text-align: right;\">\n",
       "      <th></th>\n",
       "      <th>llama3.1:70b</th>\n",
       "      <th>mistral:7b</th>\n",
       "      <th>mixtral:8x7b</th>\n",
       "      <th>mixtral:8x22b</th>\n",
       "    </tr>\n",
       "  </thead>\n",
       "  <tbody>\n",
       "    <tr>\n",
       "      <th>llama3.1:70b</th>\n",
       "      <td>1.0</td>\n",
       "      <td>0.736842</td>\n",
       "      <td>0.675</td>\n",
       "      <td>0.760526</td>\n",
       "    </tr>\n",
       "    <tr>\n",
       "      <th>mistral:7b</th>\n",
       "      <td>0.736842</td>\n",
       "      <td>1.0</td>\n",
       "      <td>0.682895</td>\n",
       "      <td>0.772368</td>\n",
       "    </tr>\n",
       "    <tr>\n",
       "      <th>mixtral:8x7b</th>\n",
       "      <td>0.675</td>\n",
       "      <td>0.682895</td>\n",
       "      <td>1.0</td>\n",
       "      <td>0.721053</td>\n",
       "    </tr>\n",
       "    <tr>\n",
       "      <th>mixtral:8x22b</th>\n",
       "      <td>0.760526</td>\n",
       "      <td>0.772368</td>\n",
       "      <td>0.721053</td>\n",
       "      <td>1.0</td>\n",
       "    </tr>\n",
       "  </tbody>\n",
       "</table>\n",
       "</div>"
      ],
      "text/plain": [
       "              llama3.1:70b mistral:7b mixtral:8x7b mixtral:8x22b\n",
       "llama3.1:70b           1.0   0.736842        0.675      0.760526\n",
       "mistral:7b        0.736842        1.0     0.682895      0.772368\n",
       "mixtral:8x7b         0.675   0.682895          1.0      0.721053\n",
       "mixtral:8x22b     0.760526   0.772368     0.721053           1.0"
      ]
     },
     "execution_count": 48,
     "metadata": {},
     "output_type": "execute_result"
    }
   ],
   "source": [
    "import pandas as pd\n",
    "\n",
    "# 计算模型间的一致性比例\n",
    "def calculate_agreement_ratios(df, models):\n",
    "    agreement_matrix = pd.DataFrame(index=models, columns=models)\n",
    "\n",
    "    for model1 in models:\n",
    "        for model2 in models:\n",
    "            if model1 == model2:\n",
    "                agreement_matrix.loc[model1, model2] = 1.0\n",
    "            else:\n",
    "                total_count = len(df)\n",
    "                agreement_count = len(df[df[model1] == df[model2]])\n",
    "                agreement_ratio = agreement_count / total_count\n",
    "                agreement_matrix.loc[model1, model2] = agreement_ratio\n",
    "\n",
    "    return agreement_matrix\n",
    "\n",
    "\n",
    "# 示例使用\n",
    "models = merged_df.columns[1:]\n",
    "agreement_matrix = calculate_agreement_ratios(merged_df, models)\n",
    "\n",
    "agreement_matrix"
   ]
  }
 ],
 "metadata": {
  "kernelspec": {
   "display_name": "text2knowledge",
   "language": "python",
   "name": "python3"
  },
  "language_info": {
   "codemirror_mode": {
    "name": "ipython",
    "version": 3
   },
   "file_extension": ".py",
   "mimetype": "text/x-python",
   "name": "python",
   "nbconvert_exporter": "python",
   "pygments_lexer": "ipython3",
   "version": "3.10.13"
  }
 },
 "nbformat": 4,
 "nbformat_minor": 2
}
