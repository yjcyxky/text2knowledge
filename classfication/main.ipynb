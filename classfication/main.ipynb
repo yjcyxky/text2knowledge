{
 "cells": [
  {
   "cell_type": "markdown",
   "metadata": {},
   "source": [
    "### Convert a file from Label Studio format to a format suitable for classification tasks\n",
    "\n",
    "You can export the data from Label Studio in a JSON format that is not suitable for classification tasks. The following code converts the JSON file to a format which is a list of dictionaries, where each dictionary has the following keys: title, abstract.\n"
   ]
  },
  {
   "cell_type": "code",
   "execution_count": null,
   "metadata": {},
   "outputs": [],
   "source": [
    "input_file = \"./example_ls_exports.json\"\n",
    "# Save the extracted data to a new JSON file\n",
    "output_file_path = \"./example.json\""
   ]
  },
  {
   "cell_type": "code",
   "execution_count": null,
   "metadata": {},
   "outputs": [],
   "source": [
    "import json\n",
    "\n",
    "data = json.load(open(input_file))\n",
    "# Extract the title and abstract\n",
    "extracted_data = [\n",
    "    {\n",
    "        \"title\": item[\"data\"].get(\"title\", \"\"),\n",
    "        \"abstract\": item[\"data\"].get(\"abstract\", \"\"),\n",
    "    }\n",
    "    for item in data\n",
    "]\n",
    "\n",
    "with open(output_file_path, \"w\") as output_file:\n",
    "    json.dump(extracted_data, output_file, indent=4)"
   ]
  },
  {
   "cell_type": "markdown",
   "metadata": {},
   "source": [
    "### Analyze and evaluate the results of the classification task"
   ]
  },
  {
   "cell_type": "code",
   "execution_count": null,
   "metadata": {},
   "outputs": [],
   "source": []
  }
 ],
 "metadata": {
  "language_info": {
   "name": "python"
  }
 },
 "nbformat": 4,
 "nbformat_minor": 2
}
