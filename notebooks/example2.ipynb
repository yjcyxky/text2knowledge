{
 "cells": [
  {
   "cell_type": "code",
   "execution_count": 1,
   "metadata": {},
   "outputs": [
    {
     "name": "stderr",
     "output_type": "stream",
     "text": [
      "/Users/jy006/miniconda3/envs/biomedgps/lib/python3.11/site-packages/tqdm/auto.py:21: TqdmWarning: IProgress not found. Please update jupyter and ipywidgets. See https://ipywidgets.readthedocs.io/en/stable/user_install.html\n",
      "  from .autonotebook import tqdm as notebook_tqdm\n"
     ]
    }
   ],
   "source": [
    "from text2knowledge.utils import *"
   ]
  },
  {
   "cell_type": "code",
   "execution_count": 2,
   "metadata": {},
   "outputs": [],
   "source": [
    "model_name = \"dmis-lab/biobert-v1.1\""
   ]
  },
  {
   "cell_type": "code",
   "execution_count": 3,
   "metadata": {},
   "outputs": [],
   "source": [
    "ontology_file = \"~/Documents/Code/BioMedGPS/text2knowledge/data/disease.filtered-10000.tsv\"\n",
    "ontology = read_ontology(ontology_file)\n",
    "tokenizer, model = load_tokenizer_and_model(model_name, use_fast=True)\n",
    "embeddings = gen_embeddings4ontology(ontology, tokenizer=tokenizer, model=model)"
   ]
  },
  {
   "cell_type": "code",
   "execution_count": 4,
   "metadata": {},
   "outputs": [
    {
     "name": "stdout",
     "output_type": "stream",
     "text": [
      "Load passage embeddings...\n",
      "CPU times: user 3.8 s, sys: 927 ms, total: 4.73 s\n",
      "Wall time: 6.03 s\n"
     ]
    },
    {
     "data": {
      "text/plain": [
       "[[],\n",
       " [Score(score=1.0000001192092896, category='Disease', name='dyscalculia', raw_name='dyscalculia'),\n",
       "  Score(score=0.9155879020690918, category='Disease', name='nephrocalcinosis', raw_name='dyscalculia'),\n",
       "  Score(score=0.9140938520431519, category='Disease', name='dysosteosclerosis', raw_name='dyscalculia')],\n",
       " [Score(score=0.9195529222488403, category='Disease', name='disease', raw_name='USA'),\n",
       "  Score(score=0.9155071377754211, category='Disease', name='acquired', raw_name='USA'),\n",
       "  Score(score=0.910632848739624, category='Disease', name='anxiety', raw_name='USA')],\n",
       " []]"
      ]
     },
     "execution_count": 4,
     "metadata": {},
     "output_type": "execute_result"
    }
   ],
   "source": [
    "%%time\n",
    "items = [\"Lung Cancer\", \"dyscalculia\", \"USA\", \"TP53\"]\n",
    "\n",
    "get_valid_entities(items, model_name=model_name, embeddings=embeddings, min_score=0.9)"
   ]
  },
  {
   "cell_type": "code",
   "execution_count": 5,
   "metadata": {},
   "outputs": [
    {
     "name": "stdout",
     "output_type": "stream",
     "text": [
      "Load passage embeddings...\n"
     ]
    },
    {
     "name": "stderr",
     "output_type": "stream",
     "text": [
      "/Users/jy006/Documents/Code/BioMedGPS/text2knowledge/text2knowledge/utils.py:129: UserWarning: To copy construct from a tensor, it is recommended to use sourceTensor.clone().detach() or sourceTensor.clone().detach().requires_grad_(True), rather than torch.tensor(sourceTensor).\n",
      "  query_embedding = torch.tensor(query_embedding)\n"
     ]
    },
    {
     "name": "stdout",
     "output_type": "stream",
     "text": [
      "CPU times: user 3.2 s, sys: 686 ms, total: 3.89 s\n",
      "Wall time: 4.28 s\n"
     ]
    },
    {
     "data": {
      "text/plain": [
       "[[],\n",
       " [Score(score=0.9999998807907104, category='Disease', name='dyscalculia', raw_name='dyscalculia'),\n",
       "  Score(score=0.9155877828598022, category='Disease', name='nephrocalcinosis', raw_name='dyscalculia'),\n",
       "  Score(score=0.9140940308570862, category='Disease', name='dysosteosclerosis', raw_name='dyscalculia')],\n",
       " [Score(score=0.9195528030395508, category='Disease', name='disease', raw_name='USA'),\n",
       "  Score(score=0.9155071973800659, category='Disease', name='acquired', raw_name='USA'),\n",
       "  Score(score=0.910632848739624, category='Disease', name='anxiety', raw_name='USA')],\n",
       " []]"
      ]
     },
     "execution_count": 5,
     "metadata": {},
     "output_type": "execute_result"
    }
   ],
   "source": [
    "%%time\n",
    "items = [\"Lung Cancer\", \"dyscalculia\", \"USA\", \"TP53\"]\n",
    "\n",
    "get_valid_entities(items, model_name=model_name, embeddings=embeddings, min_score=0.9, use_vectorized=True)"
   ]
  }
 ],
 "metadata": {
  "kernelspec": {
   "display_name": "biomedgps",
   "language": "python",
   "name": "python3"
  },
  "language_info": {
   "codemirror_mode": {
    "name": "ipython",
    "version": 3
   },
   "file_extension": ".py",
   "mimetype": "text/x-python",
   "name": "python",
   "nbconvert_exporter": "python",
   "pygments_lexer": "ipython3",
   "version": "3.10.9"
  }
 },
 "nbformat": 4,
 "nbformat_minor": 2
}
